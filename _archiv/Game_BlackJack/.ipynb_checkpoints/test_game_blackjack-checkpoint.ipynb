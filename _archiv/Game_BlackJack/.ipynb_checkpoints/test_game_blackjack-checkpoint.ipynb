{
 "cells": [
  {
   "cell_type": "code",
   "execution_count": 64,
   "id": "3a23a941",
   "metadata": {},
   "outputs": [],
   "source": [
    "import random\n",
    "suits = ('Hearts', 'Diamonds', 'Spades', 'Clubs')\n",
    "ranks = ('Two', 'Three', 'Four', 'Five', 'Six', 'Seven', 'Eight', 'Nine', 'Ten', 'Jack', 'Queen', 'King', 'Ace')\n",
    "values = {'Two':2, 'Three':3, 'Four':4, 'Five':5, 'Six':6, 'Seven':7, 'Eight':8, 'Nine':9, 'Ten':10, 'Jack':10, 'Queen':10, 'King':10, 'Ace':[1,11]}\n",
    "\n",
    "class Card():\n",
    "    '''\n",
    "    a class that allows to create all the cards of a 52 cards game deck.\n",
    "    A deck can give the number of cards it has, shuffle, deal one card\n",
    "    '''\n",
    "\n",
    "    def __init__(self, suit, rank):\n",
    "        self.suit = suit\n",
    "        self.rank = rank\n",
    "        self.value = values[rank] #an attribute that gives the value of the card based on its rank\n",
    "    \n",
    "    def __str__ (self):\n",
    "        # a method that returns the string with the suit and rank of the card\n",
    "        return self.rank + \" of \" + self.suit\n",
    "\n",
    "    def give_value(self):\n",
    "        # a method that returns the value of the card\n",
    "        return self.value\n",
    "        \n",
    "class Deck():\n",
    "    '''\n",
    "    a class that allows to create a 52 cards game deck\n",
    "    '''\n",
    "\n",
    "    def __init__(self):\n",
    "        self.all_cards = []\n",
    "    \n",
    "    \n",
    "        for suit in suits :\n",
    "            for rank in ranks:\n",
    "                created_card = Card(suit, rank)\n",
    "                self.all_cards.append(created_card)\n",
    "        # Creation of each card by iteration through suits and ranks & Add to the deck\n",
    "\n",
    "    def __str__(self) :\n",
    "        # a method that gives the length of the deck\n",
    "        return len(self.all_cards)\n",
    "    \n",
    "    def shuffle(self, amount=3):\n",
    "        # shuffle the cards as many times as asked (minimum 3)\n",
    "        for i in range(amount):\n",
    "            random.shuffle(self.all_cards)\n",
    "            \n",
    "        \n",
    "    def deal_one(self):\n",
    "        # deal the last card of the deck pop() is by definition pop(-1)\n",
    "        return self.all_cards.pop()"
   ]
  },
  {
   "cell_type": "code",
   "execution_count": 84,
   "id": "44beac41",
   "metadata": {},
   "outputs": [],
   "source": [
    "class Player():\n",
    "    '''\n",
    "    a class that creates the players (human(s) & computer dealer) and their cards.\n",
    "    '''\n",
    "\n",
    "    def __init__(self, name, type_player, money = 20):\n",
    "        # type:\"player\" or \"dealer\"\n",
    "        # money: money to bring to bet in the game\n",
    "\n",
    "        if type_player.lower() in [\"player\", \"dealer\"]:\n",
    "            self.type_player = type_player.lower()\n",
    "        else:\n",
    "            raise ValueError(\"Invalid 'type_player' parameter. It must be 'player' or 'dealer'.\")\n",
    "        \n",
    "        self.name = name.upper()\n",
    "        self.all_cards = []\n",
    "        \n",
    "        \n",
    "    def hit(self, new_card):\n",
    "        # a method that append a new card to the \"hand\" of the player\n",
    "        return self.all_cards.append(new_card)\n",
    "    \n",
    "    def print_hand_player(self, amount=1):\n",
    "        if amount == 1:\n",
    "            for card in self.all_cards:\n",
    "                print(card)\n",
    "        else :\n",
    "            print(self.all_cards[-1])\n",
    "    \n",
    "    def announce_cards(self):\n",
    "        # a method that announce the cards hold by the player and the total value of it\n",
    "        if self.type == \"player\" :\n",
    "            return f'At the moment {self.name} holds {print_hand_player()}'\n",
    "        \n",
    "        else :\n",
    "            one_or_more = input(\"Do you want to know only the first card or all the cards ? (1 or +) :  \")\n",
    "             \n",
    "            if one_or_more == 1:\n",
    "                return f'The visible card of {self.name} is {print_hand_player()}.'\n",
    "             \n",
    "            else:\n",
    "                return f'At the moment {self.name} holds {print_hand_player()}' "
   ]
  },
  {
   "cell_type": "code",
   "execution_count": 85,
   "id": "59cb97b4",
   "metadata": {},
   "outputs": [],
   "source": [
    "new_deck = Deck()"
   ]
  },
  {
   "cell_type": "code",
   "execution_count": 86,
   "id": "5bfd8b65",
   "metadata": {},
   "outputs": [],
   "source": [
    "new_player = Player(\"JAckson\", \"player\")"
   ]
  },
  {
   "cell_type": "code",
   "execution_count": 95,
   "id": "353581e8",
   "metadata": {},
   "outputs": [],
   "source": [
    "new_player.hit(new_deck.deal_one())"
   ]
  },
  {
   "cell_type": "code",
   "execution_count": 96,
   "id": "657933a0",
   "metadata": {},
   "outputs": [
    {
     "name": "stdout",
     "output_type": "stream",
     "text": [
      "Ace of Clubs\n",
      "King of Clubs\n",
      "Queen of Clubs\n"
     ]
    }
   ],
   "source": [
    "new_player.print_hand_player()"
   ]
  },
  {
   "cell_type": "code",
   "execution_count": null,
   "id": "34190d36",
   "metadata": {},
   "outputs": [],
   "source": []
  },
  {
   "cell_type": "code",
   "execution_count": null,
   "id": "d74b51ce",
   "metadata": {},
   "outputs": [],
   "source": []
  }
 ],
 "metadata": {
  "kernelspec": {
   "display_name": "Python 3 (ipykernel)",
   "language": "python",
   "name": "python3"
  },
  "language_info": {
   "codemirror_mode": {
    "name": "ipython",
    "version": 3
   },
   "file_extension": ".py",
   "mimetype": "text/x-python",
   "name": "python",
   "nbconvert_exporter": "python",
   "pygments_lexer": "ipython3",
   "version": "3.11.3"
  }
 },
 "nbformat": 4,
 "nbformat_minor": 5
}
